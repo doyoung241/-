{
  "cells": [
    {
      "cell_type": "markdown",
      "id": "161825d7",
      "metadata": {
        "id": "161825d7"
      },
      "source": [
        "# 전력 수요 예측 프로젝트 - 모델별 분석\n",
        "- 김도영, 김남훈  \n",
        "- 모든 분석은 **시계열데이터분석_3~5주차.pdf** 내용을 기반으로 구성하였습니다.\n"
      ]
    },
    {
      "cell_type": "code",
      "execution_count": 1,
      "id": "5e64113e",
      "metadata": {
        "id": "5e64113e",
        "outputId": "f6096c87-a3ad-4737-ff8c-2b46d4574231",
        "colab": {
          "base_uri": "https://localhost:8080/",
          "height": 238
        }
      },
      "outputs": [
        {
          "output_type": "execute_result",
          "data": {
            "text/plain": [
              "                     수요량(MWh)\n",
              "일시                           \n",
              "2024-01-01 01:00:00     59440\n",
              "2024-01-01 02:00:00     56989\n",
              "2024-01-01 03:00:00     55335\n",
              "2024-01-01 04:00:00     54477\n",
              "2024-01-01 05:00:00     54522"
            ],
            "text/html": [
              "\n",
              "  <div id=\"df-a0794b12-d468-41b2-9878-f2c476371fba\" class=\"colab-df-container\">\n",
              "    <div>\n",
              "<style scoped>\n",
              "    .dataframe tbody tr th:only-of-type {\n",
              "        vertical-align: middle;\n",
              "    }\n",
              "\n",
              "    .dataframe tbody tr th {\n",
              "        vertical-align: top;\n",
              "    }\n",
              "\n",
              "    .dataframe thead th {\n",
              "        text-align: right;\n",
              "    }\n",
              "</style>\n",
              "<table border=\"1\" class=\"dataframe\">\n",
              "  <thead>\n",
              "    <tr style=\"text-align: right;\">\n",
              "      <th></th>\n",
              "      <th>수요량(MWh)</th>\n",
              "    </tr>\n",
              "    <tr>\n",
              "      <th>일시</th>\n",
              "      <th></th>\n",
              "    </tr>\n",
              "  </thead>\n",
              "  <tbody>\n",
              "    <tr>\n",
              "      <th>2024-01-01 01:00:00</th>\n",
              "      <td>59440</td>\n",
              "    </tr>\n",
              "    <tr>\n",
              "      <th>2024-01-01 02:00:00</th>\n",
              "      <td>56989</td>\n",
              "    </tr>\n",
              "    <tr>\n",
              "      <th>2024-01-01 03:00:00</th>\n",
              "      <td>55335</td>\n",
              "    </tr>\n",
              "    <tr>\n",
              "      <th>2024-01-01 04:00:00</th>\n",
              "      <td>54477</td>\n",
              "    </tr>\n",
              "    <tr>\n",
              "      <th>2024-01-01 05:00:00</th>\n",
              "      <td>54522</td>\n",
              "    </tr>\n",
              "  </tbody>\n",
              "</table>\n",
              "</div>\n",
              "    <div class=\"colab-df-buttons\">\n",
              "\n",
              "  <div class=\"colab-df-container\">\n",
              "    <button class=\"colab-df-convert\" onclick=\"convertToInteractive('df-a0794b12-d468-41b2-9878-f2c476371fba')\"\n",
              "            title=\"Convert this dataframe to an interactive table.\"\n",
              "            style=\"display:none;\">\n",
              "\n",
              "  <svg xmlns=\"http://www.w3.org/2000/svg\" height=\"24px\" viewBox=\"0 -960 960 960\">\n",
              "    <path d=\"M120-120v-720h720v720H120Zm60-500h600v-160H180v160Zm220 220h160v-160H400v160Zm0 220h160v-160H400v160ZM180-400h160v-160H180v160Zm440 0h160v-160H620v160ZM180-180h160v-160H180v160Zm440 0h160v-160H620v160Z\"/>\n",
              "  </svg>\n",
              "    </button>\n",
              "\n",
              "  <style>\n",
              "    .colab-df-container {\n",
              "      display:flex;\n",
              "      gap: 12px;\n",
              "    }\n",
              "\n",
              "    .colab-df-convert {\n",
              "      background-color: #E8F0FE;\n",
              "      border: none;\n",
              "      border-radius: 50%;\n",
              "      cursor: pointer;\n",
              "      display: none;\n",
              "      fill: #1967D2;\n",
              "      height: 32px;\n",
              "      padding: 0 0 0 0;\n",
              "      width: 32px;\n",
              "    }\n",
              "\n",
              "    .colab-df-convert:hover {\n",
              "      background-color: #E2EBFA;\n",
              "      box-shadow: 0px 1px 2px rgba(60, 64, 67, 0.3), 0px 1px 3px 1px rgba(60, 64, 67, 0.15);\n",
              "      fill: #174EA6;\n",
              "    }\n",
              "\n",
              "    .colab-df-buttons div {\n",
              "      margin-bottom: 4px;\n",
              "    }\n",
              "\n",
              "    [theme=dark] .colab-df-convert {\n",
              "      background-color: #3B4455;\n",
              "      fill: #D2E3FC;\n",
              "    }\n",
              "\n",
              "    [theme=dark] .colab-df-convert:hover {\n",
              "      background-color: #434B5C;\n",
              "      box-shadow: 0px 1px 3px 1px rgba(0, 0, 0, 0.15);\n",
              "      filter: drop-shadow(0px 1px 2px rgba(0, 0, 0, 0.3));\n",
              "      fill: #FFFFFF;\n",
              "    }\n",
              "  </style>\n",
              "\n",
              "    <script>\n",
              "      const buttonEl =\n",
              "        document.querySelector('#df-a0794b12-d468-41b2-9878-f2c476371fba button.colab-df-convert');\n",
              "      buttonEl.style.display =\n",
              "        google.colab.kernel.accessAllowed ? 'block' : 'none';\n",
              "\n",
              "      async function convertToInteractive(key) {\n",
              "        const element = document.querySelector('#df-a0794b12-d468-41b2-9878-f2c476371fba');\n",
              "        const dataTable =\n",
              "          await google.colab.kernel.invokeFunction('convertToInteractive',\n",
              "                                                    [key], {});\n",
              "        if (!dataTable) return;\n",
              "\n",
              "        const docLinkHtml = 'Like what you see? Visit the ' +\n",
              "          '<a target=\"_blank\" href=https://colab.research.google.com/notebooks/data_table.ipynb>data table notebook</a>'\n",
              "          + ' to learn more about interactive tables.';\n",
              "        element.innerHTML = '';\n",
              "        dataTable['output_type'] = 'display_data';\n",
              "        await google.colab.output.renderOutput(dataTable, element);\n",
              "        const docLink = document.createElement('div');\n",
              "        docLink.innerHTML = docLinkHtml;\n",
              "        element.appendChild(docLink);\n",
              "      }\n",
              "    </script>\n",
              "  </div>\n",
              "\n",
              "\n",
              "    <div id=\"df-6e908c09-cfa9-4df3-9f78-f882d36e5ec6\">\n",
              "      <button class=\"colab-df-quickchart\" onclick=\"quickchart('df-6e908c09-cfa9-4df3-9f78-f882d36e5ec6')\"\n",
              "                title=\"Suggest charts\"\n",
              "                style=\"display:none;\">\n",
              "\n",
              "<svg xmlns=\"http://www.w3.org/2000/svg\" height=\"24px\"viewBox=\"0 0 24 24\"\n",
              "     width=\"24px\">\n",
              "    <g>\n",
              "        <path d=\"M19 3H5c-1.1 0-2 .9-2 2v14c0 1.1.9 2 2 2h14c1.1 0 2-.9 2-2V5c0-1.1-.9-2-2-2zM9 17H7v-7h2v7zm4 0h-2V7h2v10zm4 0h-2v-4h2v4z\"/>\n",
              "    </g>\n",
              "</svg>\n",
              "      </button>\n",
              "\n",
              "<style>\n",
              "  .colab-df-quickchart {\n",
              "      --bg-color: #E8F0FE;\n",
              "      --fill-color: #1967D2;\n",
              "      --hover-bg-color: #E2EBFA;\n",
              "      --hover-fill-color: #174EA6;\n",
              "      --disabled-fill-color: #AAA;\n",
              "      --disabled-bg-color: #DDD;\n",
              "  }\n",
              "\n",
              "  [theme=dark] .colab-df-quickchart {\n",
              "      --bg-color: #3B4455;\n",
              "      --fill-color: #D2E3FC;\n",
              "      --hover-bg-color: #434B5C;\n",
              "      --hover-fill-color: #FFFFFF;\n",
              "      --disabled-bg-color: #3B4455;\n",
              "      --disabled-fill-color: #666;\n",
              "  }\n",
              "\n",
              "  .colab-df-quickchart {\n",
              "    background-color: var(--bg-color);\n",
              "    border: none;\n",
              "    border-radius: 50%;\n",
              "    cursor: pointer;\n",
              "    display: none;\n",
              "    fill: var(--fill-color);\n",
              "    height: 32px;\n",
              "    padding: 0;\n",
              "    width: 32px;\n",
              "  }\n",
              "\n",
              "  .colab-df-quickchart:hover {\n",
              "    background-color: var(--hover-bg-color);\n",
              "    box-shadow: 0 1px 2px rgba(60, 64, 67, 0.3), 0 1px 3px 1px rgba(60, 64, 67, 0.15);\n",
              "    fill: var(--button-hover-fill-color);\n",
              "  }\n",
              "\n",
              "  .colab-df-quickchart-complete:disabled,\n",
              "  .colab-df-quickchart-complete:disabled:hover {\n",
              "    background-color: var(--disabled-bg-color);\n",
              "    fill: var(--disabled-fill-color);\n",
              "    box-shadow: none;\n",
              "  }\n",
              "\n",
              "  .colab-df-spinner {\n",
              "    border: 2px solid var(--fill-color);\n",
              "    border-color: transparent;\n",
              "    border-bottom-color: var(--fill-color);\n",
              "    animation:\n",
              "      spin 1s steps(1) infinite;\n",
              "  }\n",
              "\n",
              "  @keyframes spin {\n",
              "    0% {\n",
              "      border-color: transparent;\n",
              "      border-bottom-color: var(--fill-color);\n",
              "      border-left-color: var(--fill-color);\n",
              "    }\n",
              "    20% {\n",
              "      border-color: transparent;\n",
              "      border-left-color: var(--fill-color);\n",
              "      border-top-color: var(--fill-color);\n",
              "    }\n",
              "    30% {\n",
              "      border-color: transparent;\n",
              "      border-left-color: var(--fill-color);\n",
              "      border-top-color: var(--fill-color);\n",
              "      border-right-color: var(--fill-color);\n",
              "    }\n",
              "    40% {\n",
              "      border-color: transparent;\n",
              "      border-right-color: var(--fill-color);\n",
              "      border-top-color: var(--fill-color);\n",
              "    }\n",
              "    60% {\n",
              "      border-color: transparent;\n",
              "      border-right-color: var(--fill-color);\n",
              "    }\n",
              "    80% {\n",
              "      border-color: transparent;\n",
              "      border-right-color: var(--fill-color);\n",
              "      border-bottom-color: var(--fill-color);\n",
              "    }\n",
              "    90% {\n",
              "      border-color: transparent;\n",
              "      border-bottom-color: var(--fill-color);\n",
              "    }\n",
              "  }\n",
              "</style>\n",
              "\n",
              "      <script>\n",
              "        async function quickchart(key) {\n",
              "          const quickchartButtonEl =\n",
              "            document.querySelector('#' + key + ' button');\n",
              "          quickchartButtonEl.disabled = true;  // To prevent multiple clicks.\n",
              "          quickchartButtonEl.classList.add('colab-df-spinner');\n",
              "          try {\n",
              "            const charts = await google.colab.kernel.invokeFunction(\n",
              "                'suggestCharts', [key], {});\n",
              "          } catch (error) {\n",
              "            console.error('Error during call to suggestCharts:', error);\n",
              "          }\n",
              "          quickchartButtonEl.classList.remove('colab-df-spinner');\n",
              "          quickchartButtonEl.classList.add('colab-df-quickchart-complete');\n",
              "        }\n",
              "        (() => {\n",
              "          let quickchartButtonEl =\n",
              "            document.querySelector('#df-6e908c09-cfa9-4df3-9f78-f882d36e5ec6 button');\n",
              "          quickchartButtonEl.style.display =\n",
              "            google.colab.kernel.accessAllowed ? 'block' : 'none';\n",
              "        })();\n",
              "      </script>\n",
              "    </div>\n",
              "\n",
              "    </div>\n",
              "  </div>\n"
            ],
            "application/vnd.google.colaboratory.intrinsic+json": {
              "type": "dataframe",
              "variable_name": "df",
              "summary": "{\n  \"name\": \"df\",\n  \"rows\": 8784,\n  \"fields\": [\n    {\n      \"column\": \"\\uc77c\\uc2dc\",\n      \"properties\": {\n        \"dtype\": \"date\",\n        \"min\": \"2024-01-01 01:00:00\",\n        \"max\": \"2025-01-01 00:00:00\",\n        \"num_unique_values\": 8784,\n        \"samples\": [\n          \"2024-09-23 02:00:00\",\n          \"2024-03-03 01:00:00\",\n          \"2024-09-29 12:00:00\"\n        ],\n        \"semantic_type\": \"\",\n        \"description\": \"\"\n      }\n    },\n    {\n      \"column\": \"\\uc218\\uc694\\ub7c9(MWh)\",\n      \"properties\": {\n        \"dtype\": \"number\",\n        \"std\": 10028,\n        \"min\": 39258,\n        \"max\": 97115,\n        \"num_unique_values\": 7781,\n        \"samples\": [\n          57466,\n          59471,\n          57829\n        ],\n        \"semantic_type\": \"\",\n        \"description\": \"\"\n      }\n    }\n  ]\n}"
            }
          },
          "metadata": {},
          "execution_count": 1
        }
      ],
      "source": [
        "# -- 데이터 불러오기 및 전처리 --\n",
        "# 공통: 시계열데이터분석_3주차.pdf 4쪽 참고 (시간형식 처리)\n",
        "\n",
        "import pandas as pd\n",
        "import matplotlib.pyplot as plt\n",
        "from statsmodels.tsa.arima.model import ARIMA\n",
        "from statsmodels.tsa.statespace.sarimax import SARIMAX\n",
        "from sklearn.metrics import mean_absolute_error, mean_squared_error\n",
        "import numpy as np\n",
        "\n",
        "# 데이터 로딩\n",
        "df = pd.read_csv(\"한국전력거래소_시간별 전국 전력수요량_20241231.csv\", encoding='cp949')\n",
        "df = df.melt(id_vars='날짜', var_name='시간', value_name='수요량(MWh)')\n",
        "df['시간'] = df['시간'].str.replace('시','').astype(int)\n",
        "df['일시'] = pd.to_datetime(df['날짜']) + pd.to_timedelta(df['시간'] % 24, unit='h')\n",
        "df.loc[df['시간'] == 24, '일시'] += pd.Timedelta(days=1)\n",
        "df = df[['일시','수요량(MWh)']].sort_values('일시').set_index('일시')\n",
        "df.head()\n"
      ]
    },
    {
      "cell_type": "markdown",
      "id": "c7d1daec",
      "metadata": {
        "id": "c7d1daec"
      },
      "source": [
        "## ⏱️ 시간 단위 예측 (ARIMA)\n",
        "- **출처:** 시계열데이터분석_4주차.pdf 8쪽  \n",
        "- ARIMA(p,d,q) 모델을 사용하여 단변량 시계열을 예측합니다.\n"
      ]
    },
    {
      "cell_type": "code",
      "execution_count": 4,
      "id": "417cfac8",
      "metadata": {
        "id": "417cfac8",
        "outputId": "ff47b8e0-a228-4e24-f8b0-cd4e5bd66c00",
        "colab": {
          "base_uri": "https://localhost:8080/",
          "height": 1000
        }
      },
      "outputs": [
        {
          "output_type": "stream",
          "name": "stderr",
          "text": [
            "/usr/local/lib/python3.11/dist-packages/statsmodels/tsa/base/tsa_model.py:473: ValueWarning: No frequency information was provided, so inferred frequency h will be used.\n",
            "  self._init_dates(dates, freq)\n",
            "/usr/local/lib/python3.11/dist-packages/statsmodels/tsa/base/tsa_model.py:473: ValueWarning: No frequency information was provided, so inferred frequency h will be used.\n",
            "  self._init_dates(dates, freq)\n",
            "/usr/local/lib/python3.11/dist-packages/statsmodels/tsa/base/tsa_model.py:473: ValueWarning: No frequency information was provided, so inferred frequency h will be used.\n",
            "  self._init_dates(dates, freq)\n",
            "/usr/local/lib/python3.11/dist-packages/statsmodels/tsa/statespace/sarimax.py:966: UserWarning: Non-stationary starting autoregressive parameters found. Using zeros as starting parameters.\n",
            "  warn('Non-stationary starting autoregressive parameters'\n",
            "/usr/local/lib/python3.11/dist-packages/statsmodels/tsa/statespace/sarimax.py:978: UserWarning: Non-invertible starting MA parameters found. Using zeros as starting parameters.\n",
            "  warn('Non-invertible starting MA parameters found.'\n"
          ]
        },
        {
          "output_type": "stream",
          "name": "stdout",
          "text": [
            "ARIMA 시간단위 예측 → MAE: 6743.72, RMSE: 8372.74\n"
          ]
        },
        {
          "output_type": "stream",
          "name": "stderr",
          "text": [
            "/usr/local/lib/python3.11/dist-packages/IPython/core/pylabtools.py:151: UserWarning: Glyph 49688 (\\N{HANGUL SYLLABLE SU}) missing from font(s) DejaVu Sans.\n",
            "  fig.canvas.print_figure(bytes_io, **kw)\n",
            "/usr/local/lib/python3.11/dist-packages/IPython/core/pylabtools.py:151: UserWarning: Glyph 50836 (\\N{HANGUL SYLLABLE YO}) missing from font(s) DejaVu Sans.\n",
            "  fig.canvas.print_figure(bytes_io, **kw)\n",
            "/usr/local/lib/python3.11/dist-packages/IPython/core/pylabtools.py:151: UserWarning: Glyph 47049 (\\N{HANGUL SYLLABLE RYANG}) missing from font(s) DejaVu Sans.\n",
            "  fig.canvas.print_figure(bytes_io, **kw)\n",
            "/usr/local/lib/python3.11/dist-packages/IPython/core/pylabtools.py:151: UserWarning: Glyph 49884 (\\N{HANGUL SYLLABLE SI}) missing from font(s) DejaVu Sans.\n",
            "  fig.canvas.print_figure(bytes_io, **kw)\n",
            "/usr/local/lib/python3.11/dist-packages/IPython/core/pylabtools.py:151: UserWarning: Glyph 44036 (\\N{HANGUL SYLLABLE GAN}) missing from font(s) DejaVu Sans.\n",
            "  fig.canvas.print_figure(bytes_io, **kw)\n",
            "/usr/local/lib/python3.11/dist-packages/IPython/core/pylabtools.py:151: UserWarning: Glyph 51204 (\\N{HANGUL SYLLABLE JEON}) missing from font(s) DejaVu Sans.\n",
            "  fig.canvas.print_figure(bytes_io, **kw)\n",
            "/usr/local/lib/python3.11/dist-packages/IPython/core/pylabtools.py:151: UserWarning: Glyph 47141 (\\N{HANGUL SYLLABLE RYEOG}) missing from font(s) DejaVu Sans.\n",
            "  fig.canvas.print_figure(bytes_io, **kw)\n",
            "/usr/local/lib/python3.11/dist-packages/IPython/core/pylabtools.py:151: UserWarning: Glyph 50696 (\\N{HANGUL SYLLABLE YE}) missing from font(s) DejaVu Sans.\n",
            "  fig.canvas.print_figure(bytes_io, **kw)\n",
            "/usr/local/lib/python3.11/dist-packages/IPython/core/pylabtools.py:151: UserWarning: Glyph 52769 (\\N{HANGUL SYLLABLE CEUG}) missing from font(s) DejaVu Sans.\n",
            "  fig.canvas.print_figure(bytes_io, **kw)\n",
            "/usr/local/lib/python3.11/dist-packages/IPython/core/pylabtools.py:151: UserWarning: Glyph 49892 (\\N{HANGUL SYLLABLE SIL}) missing from font(s) DejaVu Sans.\n",
            "  fig.canvas.print_figure(bytes_io, **kw)\n",
            "/usr/local/lib/python3.11/dist-packages/IPython/core/pylabtools.py:151: UserWarning: Glyph 51228 (\\N{HANGUL SYLLABLE JE}) missing from font(s) DejaVu Sans.\n",
            "  fig.canvas.print_figure(bytes_io, **kw)\n",
            "/usr/local/lib/python3.11/dist-packages/IPython/core/pylabtools.py:151: UserWarning: Glyph 44050 (\\N{HANGUL SYLLABLE GABS}) missing from font(s) DejaVu Sans.\n",
            "  fig.canvas.print_figure(bytes_io, **kw)\n"
          ]
        },
        {
          "output_type": "display_data",
          "data": {
            "text/plain": [
              "<Figure size 1200x500 with 1 Axes>"
            ],
            "image/png": "[encoded data removed]"
          },
          "metadata": {}
        }
      ],
      "source": [
        "# train/test 분리\n",
        "split_idx = int(len(df)*0.8)\n",
        "train = df.iloc[:split_idx]\n",
        "test = df.iloc[split_idx:]\n",
        "\n",
        "# 모델 학습 및 예측\n",
        "model = ARIMA(train, order=(3,1,2))\n",
        "model_fit = model.fit()\n",
        "pred = model_fit.forecast(steps=len(test))\n",
        "\n",
        "# 성능 평가\n",
        "mae = mean_absolute_error(test, pred)\n",
        "rmse = mean_squared_error(test, pred) ** 0.5  # 수정된 부분\n",
        "print(f'ARIMA 시간단위 예측 → MAE: {mae:.2f}, RMSE: {rmse:.2f}')\n",
        "\n",
        "# ✅ 24시간만 시각화\n",
        "test_24 = test.iloc[:24]\n",
        "pred_24 = pred[:24]\n",
        "\n",
        "plt.figure(figsize=(12,5))\n",
        "plt.plot(test_24.index, test_24['수요량(MWh)'], label='실제값 (24시간)', color='orange')\n",
        "plt.plot(test_24.index, pred_24, label='ARIMA 예측', color='green')\n",
        "plt.title('ARIMA - 24시간 전력 수요 예측')\n",
        "plt.xlabel('시간')\n",
        "plt.ylabel('수요량(MWh)')\n",
        "plt.legend()\n",
        "plt.grid(True)\n",
        "plt.show()\n"
      ]
    },
    {
      "cell_type": "code",
      "source": [
        "#✅ 그래프 구성 요약 주황색 선 (실제값): 실제 측정된 24시간 전력 수요량\n",
        "\n",
        "#초록색 선 (ARIMA 예측): ARIMA 모델이 예측한 동일 24시간의 전력 수요량\n",
        "\n",
        "#x축: 날짜 + 시간 (예: 10-20 03 → 10월 20일 03시)\n",
        "\n",
        "#y축: 전력 수요량 (단위: MWh)\n",
        "\n",
        "#📊 그래프 해석\n",
        "#1. 실제값(주황선)의 패턴\n",
        "#전형적인 하루 전력 수요 곡선이 보임:\n",
        "\n",
        "#오전 0~6시: 수요 감소 → 새벽시간 저수요\n",
        "\n",
        "#오전 6~9시: 점진적 상승 (출근/기상 영향)\n",
        "\n",
        "#오후 15~18시: 수요가 다시 최고치에 도달 (저녁 시간대)\n",
        "\n",
        "#➡️ 시간대별 전력 사용 행태가 분명하게 반영됨"
      ],
      "metadata": {
        "id": "5bNQCIoeD4fA"
      },
      "id": "5bNQCIoeD4fA",
      "execution_count": null,
      "outputs": []
    },
    {
      "cell_type": "markdown",
      "id": "550371cd",
      "metadata": {
        "id": "550371cd"
      },
      "source": [
        "## 🌸 계절 단위 예측 (SARIMA)\n",
        "- **출처:** 시계열데이터분석_3주차.pdf 16~18쪽  \n",
        "- 계절성 반영을 위해 SARIMA(p,d,q)(P,D,Q,s) 모델 사용\n"
      ]
    },
    {
      "cell_type": "code",
      "execution_count": 6,
      "id": "b65bb142",
      "metadata": {
        "id": "b65bb142",
        "outputId": "7d90cdc4-32da-4c43-e4a9-9aff6e8b1541",
        "colab": {
          "base_uri": "https://localhost:8080/",
          "height": 910
        }
      },
      "outputs": [
        {
          "output_type": "stream",
          "name": "stderr",
          "text": [
            "<ipython-input-6-9d8adf58d9ad>:2: FutureWarning: 'Q-DEC' is deprecated and will be removed in a future version, please use 'QE-DEC' instead.\n",
            "  df_q = df.resample('Q-DEC').sum()  # FutureWarning 회피\n",
            "/usr/local/lib/python3.11/dist-packages/statsmodels/tsa/statespace/sarimax.py:866: UserWarning: Too few observations to estimate starting parameters for ARMA and trend. All parameters except for variances will be set to zeros.\n",
            "  warn('Too few observations to estimate starting parameters%s.'\n",
            "/usr/local/lib/python3.11/dist-packages/statsmodels/tsa/statespace/sarimax.py:866: UserWarning: Too few observations to estimate starting parameters for seasonal ARMA. All parameters except for variances will be set to zeros.\n",
            "  warn('Too few observations to estimate starting parameters%s.'\n",
            "/usr/local/lib/python3.11/dist-packages/IPython/core/pylabtools.py:151: UserWarning: Glyph 44228 (\\N{HANGUL SYLLABLE GYE}) missing from font(s) DejaVu Sans.\n",
            "  fig.canvas.print_figure(bytes_io, **kw)\n",
            "/usr/local/lib/python3.11/dist-packages/IPython/core/pylabtools.py:151: UserWarning: Glyph 51208 (\\N{HANGUL SYLLABLE JEOL}) missing from font(s) DejaVu Sans.\n",
            "  fig.canvas.print_figure(bytes_io, **kw)\n",
            "/usr/local/lib/python3.11/dist-packages/IPython/core/pylabtools.py:151: UserWarning: Glyph 44060 (\\N{HANGUL SYLLABLE GAE}) missing from font(s) DejaVu Sans.\n",
            "  fig.canvas.print_figure(bytes_io, **kw)\n",
            "/usr/local/lib/python3.11/dist-packages/IPython/core/pylabtools.py:151: UserWarning: Glyph 50900 (\\N{HANGUL SYLLABLE WEOL}) missing from font(s) DejaVu Sans.\n",
            "  fig.canvas.print_figure(bytes_io, **kw)\n",
            "/usr/local/lib/python3.11/dist-packages/IPython/core/pylabtools.py:151: UserWarning: Glyph 45800 (\\N{HANGUL SYLLABLE DAN}) missing from font(s) DejaVu Sans.\n",
            "  fig.canvas.print_figure(bytes_io, **kw)\n",
            "/usr/local/lib/python3.11/dist-packages/IPython/core/pylabtools.py:151: UserWarning: Glyph 50948 (\\N{HANGUL SYLLABLE WI}) missing from font(s) DejaVu Sans.\n",
            "  fig.canvas.print_figure(bytes_io, **kw)\n",
            "/usr/local/lib/python3.11/dist-packages/IPython/core/pylabtools.py:151: UserWarning: Glyph 50696 (\\N{HANGUL SYLLABLE YE}) missing from font(s) DejaVu Sans.\n",
            "  fig.canvas.print_figure(bytes_io, **kw)\n",
            "/usr/local/lib/python3.11/dist-packages/IPython/core/pylabtools.py:151: UserWarning: Glyph 52769 (\\N{HANGUL SYLLABLE CEUG}) missing from font(s) DejaVu Sans.\n",
            "  fig.canvas.print_figure(bytes_io, **kw)\n"
          ]
        },
        {
          "output_type": "stream",
          "name": "stdout",
          "text": [
            "SARIMA 계절 예측 → MAE: 123811481.59, RMSE: 162356659.09\n"
          ]
        },
        {
          "output_type": "display_data",
          "data": {
            "text/plain": [
              "<Figure size 1200x500 with 1 Axes>"
            ],
            "image/png": "[encoded data removed]"
          },
          "metadata": {}
        }
      ],
      "source": [
        "# 분기별(3개월) 리샘플링\n",
        "df_q = df.resample('Q-DEC').sum()  # FutureWarning 회피\n",
        "train_q = df_q.iloc[:-2]\n",
        "test_q = df_q.iloc[-2:]\n",
        "\n",
        "# SARIMA 모델 학습\n",
        "model = SARIMAX(train_q, order=(1,1,1), seasonal_order=(1,1,1,4))\n",
        "model_fit = model.fit(disp=False)\n",
        "pred = model_fit.forecast(len(test_q))\n",
        "\n",
        "# 성능 평가 (버전 호환용)\n",
        "mae = mean_absolute_error(test_q, pred)\n",
        "rmse = mean_squared_error(test_q, pred) ** 0.5  # ✅ 여기 수정\n",
        "print(f'SARIMA 계절 예측 → MAE: {mae:.2f}, RMSE: {rmse:.2f}')\n",
        "\n",
        "# 시각화\n",
        "plt.figure(figsize=(12,5))\n",
        "plt.plot(train_q, label='Train')\n",
        "plt.plot(test_q, label='Test')\n",
        "plt.plot(pred, label='SARIMA 예측')\n",
        "plt.title('SARIMA - 계절(3개월) 단위 예측')\n",
        "plt.legend()\n",
        "plt.grid(True)\n",
        "plt.show()\n"
      ]
    },
    {
      "cell_type": "markdown",
      "source": [
        "✅ 그래프 구성 요약\n",
        "그래프 제목: SARIMA - 계절(3개월) 단위 예측\n",
        "\n",
        "x축: 분기별(3개월 단위) 날짜 (예: 2024-03, 2024-06, ...)\n",
        "\n",
        "y축: 전력 수요 총합 (단위: MWh, 단위 표시 없음 → 실제 값은 매우 큼, ≈ 1억 단위)\n",
        "\n",
        "색상:\n",
        "\n",
        "파랑 (Train): 학습에 사용된 분기별 총 전력 수요\n",
        "\n",
        "주황 (Test): 실제 관측된 마지막 2분기의 총 전력 수요\n",
        "\n",
        "초록 (SARIMA 예측): 모델이 예측한 마지막 2분기의 총 전력 수요\n",
        "\n",
        "📊 그래프 해석\n",
        "1. 예측 구간의 급격한 상승\n",
        "**SARIMA 예측(초록선)**은 마지막 분기에서 급격한 수요 증가를 예측하고 있음\n",
        "\n",
        "반면, 실제 측정값(주황선)은 급격한 하락을 보임\n",
        "\n",
        "🔎 해석:\n",
        "SARIMA 모델은 이전 계절의 상승 추세를 그대로 **연장(외삽)**했지만,\n",
        "실제로는 수요가 급격히 감소하면서 예측 실패\n",
        "\n",
        "2. 모델 오버슈팅 현상\n",
        "예측값이 현실보다 너무 과하게 상승 (모델이 추세에 과적합되었을 가능성)\n",
        "\n",
        "특히 데이터가 적은 상태(4~5개 분기 정도 학습)에선 이런 문제가 흔함\n",
        "\n",
        "3. 분기 수요 자체는 매우 크고 변동폭도 큼\n",
        "y축 단위를 보면 1e8 → 즉, 1억 MWh 단위\n",
        "\n",
        "분기마다 수요 총합의 규모가 매우 크기 때문에, 조금만 예측이 틀려도 오차는 매우 커짐"
      ],
      "metadata": {
        "id": "GN_qjKIOE5Hc"
      },
      "id": "GN_qjKIOE5Hc"
    },
    {
      "cell_type": "markdown",
      "id": "124fc7c6",
      "metadata": {
        "id": "124fc7c6"
      },
      "source": [
        "## 📆 연도 단위 예측 (ARIMA)\n",
        "- **출처:** 시계열데이터분석_5주차.pdf 5~7쪽  \n",
        "- 연도별 추세를 보기 위해 연 단위 집계 및 ARIMA 적용\n"
      ]
    },
    {
      "cell_type": "code",
      "execution_count": 8,
      "id": "989479c8",
      "metadata": {
        "id": "989479c8",
        "outputId": "3dd52c1b-2237-44cc-a4d4-49a3357cc3f4",
        "colab": {
          "base_uri": "https://localhost:8080/",
          "height": 723
        }
      },
      "outputs": [
        {
          "output_type": "stream",
          "name": "stderr",
          "text": [
            "/usr/local/lib/python3.11/dist-packages/statsmodels/tsa/statespace/sarimax.py:866: UserWarning: Too few observations to estimate starting parameters for ARMA and trend. All parameters except for variances will be set to zeros.\n",
            "  warn('Too few observations to estimate starting parameters%s.'\n",
            "/usr/local/lib/python3.11/dist-packages/statsmodels/tsa/statespace/mlemodel.py:1235: RuntimeWarning: invalid value encountered in divide\n",
            "  np.inner(score_obs, score_obs) /\n"
          ]
        },
        {
          "output_type": "stream",
          "name": "stdout",
          "text": [
            "ARIMA 연도 예측 → MAE: 566737226.00, RMSE: 566737226.00\n"
          ]
        },
        {
          "output_type": "stream",
          "name": "stderr",
          "text": [
            "/usr/local/lib/python3.11/dist-packages/IPython/core/pylabtools.py:151: UserWarning: Glyph 50672 (\\N{HANGUL SYLLABLE YEON}) missing from font(s) DejaVu Sans.\n",
            "  fig.canvas.print_figure(bytes_io, **kw)\n",
            "/usr/local/lib/python3.11/dist-packages/IPython/core/pylabtools.py:151: UserWarning: Glyph 46020 (\\N{HANGUL SYLLABLE DO}) missing from font(s) DejaVu Sans.\n",
            "  fig.canvas.print_figure(bytes_io, **kw)\n",
            "/usr/local/lib/python3.11/dist-packages/IPython/core/pylabtools.py:151: UserWarning: Glyph 45800 (\\N{HANGUL SYLLABLE DAN}) missing from font(s) DejaVu Sans.\n",
            "  fig.canvas.print_figure(bytes_io, **kw)\n",
            "/usr/local/lib/python3.11/dist-packages/IPython/core/pylabtools.py:151: UserWarning: Glyph 50948 (\\N{HANGUL SYLLABLE WI}) missing from font(s) DejaVu Sans.\n",
            "  fig.canvas.print_figure(bytes_io, **kw)\n",
            "/usr/local/lib/python3.11/dist-packages/IPython/core/pylabtools.py:151: UserWarning: Glyph 50696 (\\N{HANGUL SYLLABLE YE}) missing from font(s) DejaVu Sans.\n",
            "  fig.canvas.print_figure(bytes_io, **kw)\n",
            "/usr/local/lib/python3.11/dist-packages/IPython/core/pylabtools.py:151: UserWarning: Glyph 52769 (\\N{HANGUL SYLLABLE CEUG}) missing from font(s) DejaVu Sans.\n",
            "  fig.canvas.print_figure(bytes_io, **kw)\n"
          ]
        },
        {
          "output_type": "display_data",
          "data": {
            "text/plain": [
              "<Figure size 800x400 with 1 Axes>"
            ],
            "image/png": "[encoded data removed]"
          },
          "metadata": {}
        }
      ],
      "source": [
        "df_y = df.resample('YE').sum()  # ← FutureWarning 방지\n",
        "train_y = df_y.iloc[:-1]\n",
        "test_y = df_y.iloc[-1:]\n",
        "\n",
        "model = ARIMA(train_y, order=(1,1,1))\n",
        "model_fit = model.fit()\n",
        "pred = model_fit.forecast(len(test_y))\n",
        "\n",
        "mae = mean_absolute_error(test_y, pred)\n",
        "rmse = mean_squared_error(test_y, pred) ** 0.5  # ← 여기 수정\n",
        "print(f'ARIMA 연도 예측 → MAE: {mae:.2f}, RMSE: {rmse:.2f}')\n",
        "\n",
        "# 시각화\n",
        "plt.figure(figsize=(8,4))\n",
        "plt.plot(train_y, label='Train')\n",
        "plt.plot(test_y, label='Test')\n",
        "plt.plot(pred, label='ARIMA 예측')\n",
        "plt.title('ARIMA - 연도 단위 예측')\n",
        "plt.legend()\n",
        "plt.show()\n"
      ]
    }
  ],
  "metadata": {
    "colab": {
      "provenance": []
    },
    "language_info": {
      "name": "python"
    },
    "kernelspec": {
      "name": "python3",
      "display_name": "Python 3"
    }
  },
  "nbformat": 4,
  "nbformat_minor": 5
}