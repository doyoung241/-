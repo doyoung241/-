{
 "cells": [
  {
   "cell_type": "markdown",
   "id": "161825d7",
   "metadata": {},
   "source": [
    "# 전력 수요 예측 프로젝트 - 모델별 분석\n",
    "- 김도영, 김남훈  \n",
    "- 모든 분석은 **시계열데이터분석_3~5주차.pdf** 내용을 기반으로 구성하였습니다.\n"
   ]
  },
  {
   "cell_type": "code",
   "execution_count": null,
   "id": "5e64113e",
   "metadata": {},
   "outputs": [],
   "source": [
    "# -- 데이터 불러오기 및 전처리 --\n",
    "# 공통: 시계열데이터분석_3주차.pdf 4쪽 참고 (시간형식 처리)\n",
    "\n",
    "import pandas as pd\n",
    "import matplotlib.pyplot as plt\n",
    "from statsmodels.tsa.arima.model import ARIMA\n",
    "from statsmodels.tsa.statespace.sarimax import SARIMAX\n",
    "from sklearn.metrics import mean_absolute_error, mean_squared_error\n",
    "import numpy as np\n",
    "\n",
    "# 데이터 로딩\n",
    "df = pd.read_csv(\"한국전력거래소_시간별 전국 전력수요량_20241231.csv\", encoding='cp949')\n",
    "df = df.melt(id_vars='날짜', var_name='시간', value_name='수요량(MWh)')\n",
    "df['시간'] = df['시간'].str.replace('시','').astype(int)\n",
    "df['일시'] = pd.to_datetime(df['날짜']) + pd.to_timedelta(df['시간'] % 24, unit='h')\n",
    "df.loc[df['시간'] == 24, '일시'] += pd.Timedelta(days=1)\n",
    "df = df[['일시','수요량(MWh)']].sort_values('일시').set_index('일시')\n",
    "df.head()\n"
   ]
  },
  {
   "cell_type": "markdown",
   "id": "c7d1daec",
   "metadata": {},
   "source": [
    "## ⏱️ 시간 단위 예측 (ARIMA)\n",
    "- **출처:** 시계열데이터분석_4주차.pdf 8쪽  \n",
    "- ARIMA(p,d,q) 모델을 사용하여 단변량 시계열을 예측합니다.\n"
   ]
  },
  {
   "cell_type": "code",
   "execution_count": null,
   "id": "417cfac8",
   "metadata": {},
   "outputs": [],
   "source": [
    "# train/test 분리\n",
    "split_idx = int(len(df)*0.8)\n",
    "train = df.iloc[:split_idx]\n",
    "test = df.iloc[split_idx:]\n",
    "\n",
    "# 모델 학습 및 예측\n",
    "model = ARIMA(train, order=(3,1,2))\n",
    "model_fit = model.fit()\n",
    "pred = model_fit.forecast(steps=len(test))\n",
    "\n",
    "# 성능 평가\n",
    "mae = mean_absolute_error(test, pred)\n",
    "rmse = mean_squared_error(test, pred, squared=False)\n",
    "print(f'ARIMA 시간단위 예측 → MAE: {mae:.2f}, RMSE: {rmse:.2f}')\n",
    "\n",
    "# 시각화\n",
    "plt.figure(figsize=(15,5))\n",
    "plt.plot(train.index, train['수요량(MWh)'], label='Train')\n",
    "plt.plot(test.index, test['수요량(MWh)'], label='Test')\n",
    "plt.plot(test.index, pred, label='ARIMA 예측')\n",
    "plt.title('ARIMA - 시간 단위 예측')\n",
    "plt.legend()\n",
    "plt.show()\n"
   ]
  },
  {
   "cell_type": "markdown",
   "id": "550371cd",
   "metadata": {},
   "source": [
    "## 🌸 계절 단위 예측 (SARIMA)\n",
    "- **출처:** 시계열데이터분석_3주차.pdf 16~18쪽  \n",
    "- 계절성 반영을 위해 SARIMA(p,d,q)(P,D,Q,s) 모델 사용\n"
   ]
  },
  {
   "cell_type": "code",
   "execution_count": null,
   "id": "b65bb142",
   "metadata": {},
   "outputs": [],
   "source": [
    "# 분기별(3개월) 리샘플링\n",
    "df_q = df.resample('Q').sum()\n",
    "train_q = df_q.iloc[:-2]\n",
    "test_q = df_q.iloc[-2:]\n",
    "\n",
    "model = SARIMAX(train_q, order=(1,1,1), seasonal_order=(1,1,1,4))\n",
    "model_fit = model.fit()\n",
    "pred = model_fit.forecast(len(test_q))\n",
    "\n",
    "mae = mean_absolute_error(test_q, pred)\n",
    "rmse = mean_squared_error(test_q, pred, squared=False)\n",
    "print(f'SARIMA 계절 예측 → MAE: {mae:.2f}, RMSE: {rmse:.2f}')\n",
    "\n",
    "# 시각화\n",
    "plt.figure(figsize=(12,5))\n",
    "plt.plot(train_q, label='Train')\n",
    "plt.plot(test_q, label='Test')\n",
    "plt.plot(pred, label='SARIMA 예측')\n",
    "plt.title('SARIMA - 계절(3개월) 단위 예측')\n",
    "plt.legend()\n",
    "plt.show()\n"
   ]
  },
  {
   "cell_type": "markdown",
   "id": "124fc7c6",
   "metadata": {},
   "source": [
    "## 📆 연도 단위 예측 (ARIMA)\n",
    "- **출처:** 시계열데이터분석_5주차.pdf 5~7쪽  \n",
    "- 연도별 추세를 보기 위해 연 단위 집계 및 ARIMA 적용\n"
   ]
  },
  {
   "cell_type": "code",
   "execution_count": null,
   "id": "989479c8",
   "metadata": {},
   "outputs": [],
   "source": [
    "df_y = df.resample('Y').sum()\n",
    "train_y = df_y.iloc[:-1]\n",
    "test_y = df_y.iloc[-1:]\n",
    "\n",
    "model = ARIMA(train_y, order=(1,1,1))\n",
    "model_fit = model.fit()\n",
    "pred = model_fit.forecast(len(test_y))\n",
    "\n",
    "mae = mean_absolute_error(test_y, pred)\n",
    "rmse = mean_squared_error(test_y, pred, squared=False)\n",
    "print(f'ARIMA 연도 예측 → MAE: {mae:.2f}, RMSE: {rmse:.2f}')\n",
    "\n",
    "# 시각화\n",
    "plt.figure(figsize=(8,4))\n",
    "plt.plot(train_y, label='Train')\n",
    "plt.plot(test_y, label='Test')\n",
    "plt.plot(pred, label='ARIMA 예측')\n",
    "plt.title('ARIMA - 연도 단위 예측')\n",
    "plt.legend()\n",
    "plt.show()\n"
   ]
  }
 ],
 "metadata": {},
 "nbformat": 4,
 "nbformat_minor": 5
}
