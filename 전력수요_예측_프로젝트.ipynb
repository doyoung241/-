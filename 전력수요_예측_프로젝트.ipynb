{
 "cells": [
  {
   "cell_type": "markdown",
   "id": "f94368ae",
   "metadata": {},
   "source": [{
 "cells": [
  {
   "cell_type": "markdown",
   "id": "f94368ae",
   "metadata": {},
   "source": [
    "# 2025 봄학기 시계열데이터분석 프로젝트\n",
    "## 전력 수요량 예측 모델링\n",
    "**조원:** 김도영, 김남훈  \n",
    "**제출일:** 2025-05-31  \n",
    "\n",
    "---\n",
    "\n",
    "### 📌 프로젝트 평가 기준 반영 사항\n",
    "- **다변량 시계열 구성**: 연도, 시간, 계절 등 다양한 관점 반영\n",
    "- **분석 프로세스 설명**: 마크다운으로 각 단계 해설\n",
    "- **적절한 라이브러리 사용**: statsmodels, sklearn 등 활용\n",
    "- **시계열 데이터 전처리 및 변환**: datetime, resample 등 활용\n",
    "- **의미 있는 결과 도출**: 시각화와 오차 지표 비교로 결과 해석\n",
    "\n",
    "---\n",
    "\n",
    "### 📊 분석 관점 및 사용 모델\n",
    "1. **시간 단위 예측**: ARIMA 모델  \n",
    "   - 출처: 시계열데이터분석_4주차.pdf 8쪽\n",
    "2. **계절 단위 예측 (3개월)**: Holt-Winters, SARIMA  \n",
    "   - 출처: 시계열데이터분석_3주차.pdf 16~18쪽\n",
    "3. **연도 단위 예측**: BATS, TBATS  \n",
    "   - 출처: 시계열데이터분석_5주차.pdf 4~7쪽\n"
   ]
  },
  {
   "cell_type": "markdown",
   "id": "4cdaccdb",
   "metadata": {},
   "source": [
    "## 1. 데이터 불러오기 및 전처리"
   ]
  },
  {
   "cell_type": "code",
   "execution_count": null,
   "id": "4d2895ae",
   "metadata": {},
   "outputs": [],
   "source": [
    "# 데이터 불러오기 및 시간 파싱\n",
    "import pandas as pd\n",
    "import matplotlib.pyplot as plt\n",
    "\n",
    "# 출처: 프로젝트.pdf 기준 데이터 활용\n",
    "file_path = '/content/한국전력거래소_시간별 전국 전력수요량_20241231 (2).csv'\n",
    "df = pd.read_csv(file_path)\n",
    "df['일시'] = pd.to_datetime(df['일시'])\n",
    "df = df.sort_values('일시')\n",
    "df.set_index('일시', inplace=True)\n",
    "df = df[['수요량(MWh)']]\n",
    "df.head()"
   ]
  },
  {
   "cell_type": "markdown",
   "id": "f1bf70ce",
   "metadata": {},
   "source": [
    "## 2. 시간 단위 예측 (ARIMA)\n",
    "출처: 시계열데이터분석_4주차.pdf 8쪽"
   ]
  },
  {
   "cell_type": "code",
   "execution_count": null,
   "id": "10259a89",
   "metadata": {},
   "outputs": [],
   "source": [
    "from statsmodels.tsa.arima.model import ARIMA\n",
    "from sklearn.metrics import mean_absolute_error, mean_squared_error\n",
    "\n",
    "# train/test 분리\n",
    "split_idx = int(len(df)*0.8)\n",
    "train, test = df.iloc[:split_idx], df.iloc[split_idx:]\n",
    "\n",
    "model = ARIMA(train, order=(3,1,2))\n",
    "model_fit = model.fit()\n",
    "pred = model_fit.forecast(steps=len(test))\n",
    "\n",
    "mae = mean_absolute_error(test, pred)\n",
    "rmse = mean_squared_error(test, pred, squared=False)\n",
    "print(f'ARIMA MAE: {mae:.2f}, RMSE: {rmse:.2f}')\n",
    "\n",
    "plt.figure(figsize=(15,5))\n",
    "plt.plot(train.index, train['수요량(MWh)'], label='Train')\n",
    "plt.plot(test.index, test['수요량(MWh)'], label='Test')\n",
    "plt.plot(test.index, pred, label='ARIMA 예측')\n",
    "plt.legend()\n",
    "plt.title('시간 단위 예측')\n",
    "plt.show()"
   ]
  },
  {
   "cell_type": "markdown",
   "id": "985aaa5f",
   "metadata": {},
   "source": [
    "## 3. 계절 단위 예측 (3개월 단위)\n",
    "출처: 시계열데이터분석_3주차.pdf 16~18쪽"
   ]
  },
  {
   "cell_type": "code",
   "execution_count": null,
   "id": "fc9c294a",
   "metadata": {},
   "outputs": [],
   "source": [
    "# -- 계절 단위 예측 (3개월 단위 SARIMA) --\n",
    "# 출처: 시계열데이터분석_3주차.pdf 16~18쪽\n",
    "\n",
    "df_season = df.resample('Q').sum()  # 분기별 합계\n",
    "train_season = df_season.iloc[:-2]\n",
    "test_season = df_season.iloc[-2:]\n",
    "\n",
    "from statsmodels.tsa.statespace.sarimax import SARIMAX\n",
    "\n",
    "sarima_model = SARIMAX(train_season, order=(1,1,1), seasonal_order=(1,1,1,4))\n",
    "sarima_result = sarima_model.fit()\n",
    "pred_season = sarima_result.forecast(len(test_season))\n",
    "\n",
    "mae_season = mean_absolute_error(test_season, pred_season)\n",
    "rmse_season = mean_squared_error(test_season, pred_season, squared=False)\n",
    "print(f\"SARIMA MAE: {mae_season:.2f}, RMSE: {rmse_season:.2f}\")\n",
    "\n",
    "plt.figure(figsize=(12,5))\n",
    "plt.plot(train_season, label='Train')\n",
    "plt.plot(test_season, label='Test')\n",
    "plt.plot(pred_season, label='SARIMA 예측')\n",
    "plt.title('계절(분기) 단위 예측')\n",
    "plt.legend()\n",
    "plt.show()\n"
   ]
  },
  {
   "cell_type": "markdown",
   "id": "73bd58f2",
   "metadata": {},
   "source": [
    "## 4. 연도 단위 예측 (TBATS)\n",
    "출처: 시계열데이터분석_5주차.pdf 4~7쪽"
   ]
  },
  {
   "cell_type": "code",
   "execution_count": null,
   "id": "f3c59f78",
   "metadata": {},
   "outputs": [],
   "source": [
    "# -- 연도 단위 예측 (ARIMA 기반) --\n",
    "# 출처: 시계열데이터분석_5주차.pdf 4~7쪽\n",
    "\n",
    "df_yearly = df.resample('Y').sum()\n",
    "train_year = df_yearly.iloc[:-1]\n",
    "test_year = df_yearly.iloc[-1:]\n",
    "\n",
    "arima_y_model = ARIMA(train_year, order=(1,1,1))\n",
    "arima_y_result = arima_y_model.fit()\n",
    "pred_year = arima_y_result.forecast(len(test_year))\n",
    "\n",
    "mae_year = mean_absolute_error(test_year, pred_year)\n",
    "rmse_year = mean_squared_error(test_year, pred_year, squared=False)\n",
    "print(f\"ARIMA 연도 MAE: {mae_year:.2f}, RMSE: {rmse_year:.2f}\")\n",
    "\n",
    "plt.figure(figsize=(10,5))\n",
    "plt.plot(train_year, label='Train')\n",
    "plt.plot(test_year, label='Test')\n",
    "plt.plot(pred_year, label='ARIMA 예측')\n",
    "plt.title('연도 단위 예측')\n",
    "plt.legend()\n",
    "plt.show()\n"
   ]
  }
 ],
 "metadata": {},
 "nbformat": 4,
 "nbformat_minor": 5
}

    "# 2025 봄학기 시계열데이터분석 프로젝트\n",
    "## 전력 수요량 예측 모델링\n",
    "**조원:** 김도영, 김남훈  \n",
    "**제출일:** 2025-05-31  \n",
    "\n",
    "---\n",
    "\n",
    "### 📌 프로젝트 평가 기준 반영 사항\n",
    "- **다변량 시계열 구성**: 연도, 시간, 계절 등 다양한 관점 반영\n",
    "- **분석 프로세스 설명**: 마크다운으로 각 단계 해설\n",
    "- **적절한 라이브러리 사용**: statsmodels, sklearn 등 활용\n",
    "- **시계열 데이터 전처리 및 변환**: datetime, resample 등 활용\n",
    "- **의미 있는 결과 도출**: 시각화와 오차 지표 비교로 결과 해석\n",
    "\n",
    "---\n",
    "\n",
    "### 📊 분석 관점 및 사용 모델\n",
    "1. **시간 단위 예측**: ARIMA 모델  \n",
    "   - 출처: 시계열데이터분석_4주차.pdf 8쪽\n",
    "2. **계절 단위 예측 (3개월)**: Holt-Winters, SARIMA  \n",
    "   - 출처: 시계열데이터분석_3주차.pdf 16~18쪽\n",
    "3. **연도 단위 예측**: BATS, TBATS  \n",
    "   - 출처: 시계열데이터분석_5주차.pdf 4~7쪽\n"
   ]
  },
  {
   "cell_type": "markdown",
   "id": "4cdaccdb",
   "metadata": {},
   "source": [
    "## 1. 데이터 불러오기 및 전처리"
   ]
  },
  {
   "cell_type": "code",
   "execution_count": null,
   "id": "4d2895ae",
   "metadata": {},
   "outputs": [],
   "source": [
    "# 데이터 불러오기 및 시간 파싱\n",
    "import pandas as pd\n",
    "import matplotlib.pyplot as plt\n",
    "\n",
    "# 출처: 프로젝트.pdf 기준 데이터 활용\n",
    "file_path = '/content/한국전력거래소_시간별 전국 전력수요량_20241231 (2).csv'\n",
    "df = pd.read_csv(file_path)\n",
    "df['일시'] = pd.to_datetime(df['일시'])\n",
    "df = df.sort_values('일시')\n",
    "df.set_index('일시', inplace=True)\n",
    "df = df[['수요량(MWh)']]\n",
    "df.head()"
   ]
  },
  {
   "cell_type": "markdown",
   "id": "f1bf70ce",
   "metadata": {},
   "source": [
    "## 2. 시간 단위 예측 (ARIMA)\n",
    "출처: 시계열데이터분석_4주차.pdf 8쪽"
   ]
  },
  {
   "cell_type": "code",
   "execution_count": null,
   "id": "10259a89",
   "metadata": {},
   "outputs": [],
   "source": [
    "from statsmodels.tsa.arima.model import ARIMA\n",
    "from sklearn.metrics import mean_absolute_error, mean_squared_error\n",
    "\n",
    "# train/test 분리\n",
    "split_idx = int(len(df)*0.8)\n",
    "train, test = df.iloc[:split_idx], df.iloc[split_idx:]\n",
    "\n",
    "model = ARIMA(train, order=(3,1,2))\n",
    "model_fit = model.fit()\n",
    "pred = model_fit.forecast(steps=len(test))\n",
    "\n",
    "mae = mean_absolute_error(test, pred)\n",
    "rmse = mean_squared_error(test, pred, squared=False)\n",
    "print(f'ARIMA MAE: {mae:.2f}, RMSE: {rmse:.2f}')\n",
    "\n",
    "plt.figure(figsize=(15,5))\n",
    "plt.plot(train.index, train['수요량(MWh)'], label='Train')\n",
    "plt.plot(test.index, test['수요량(MWh)'], label='Test')\n",
    "plt.plot(test.index, pred, label='ARIMA 예측')\n",
    "plt.legend()\n",
    "plt.title('시간 단위 예측')\n",
    "plt.show()"
   ]
  },
  {
   "cell_type": "markdown",
   "id": "985aaa5f",
   "metadata": {},
   "source": [
    "## 3. 계절 단위 예측 (3개월 단위)\n",
    "출처: 시계열데이터분석_3주차.pdf 16~18쪽"
   ]
  },
  {
   "cell_type": "markdown",
   "id": "71686c40",
   "metadata": {},
   "source": [
    "💡 **향후 작성 예정: Holt-Winters 또는 SARIMA 적용 코드 및 시각화**"
   ]
  },
  {
   "cell_type": "markdown",
   "id": "73bd58f2",
   "metadata": {},
   "source": [
    "## 4. 연도 단위 예측 (TBATS)\n",
    "출처: 시계열데이터분석_5주차.pdf 4~7쪽"
   ]
  },
  {
   "cell_type": "markdown",
   "id": "b981e4e0",
   "metadata": {},
   "source": [
    "💡 **향후 작성 예정: TBATS 모델 적용 코드 및 성능 비교**"
   ]
  }
 ],
 "metadata": {},
 "nbformat": 4,
 "nbformat_minor": 5
}
