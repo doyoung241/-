{
  "cells": [
    {
      "cell_type": "markdown",
      "id": "37ed7f5b",
      "metadata": {
        "id": "37ed7f5b"
      },
      "source": [
        "# 전력 수요량 예측 프로젝트\n",
        "\n",
        "- **조 이름**: 스마트에너지예측조\n",
        "- **참여자**: 김도영, 홍길동, 이지은\n",
        "- **주제**: 한국전력거래소의 시간별 전력 수요량 데이터를 활용한 시계열 예측\n",
        "- **예측 목표**: 향후 24시간의 전력 수요량(MWh) 예측\n",
        "- **사용 모델**:\n",
        "  - ARIMA: 전통적 통계 기반 시계열 모델\n",
        "  - N-BEATS: MLP 기반의 딥러닝 예측 모델\n",
        "  - TCN: CNN 기반 시계열 예측 딥러닝 모델\n",
        "  - TiDE: Transformer 계열의 시계열 특화 딥러닝 모델\n",
        "  - 앙상블: 위 모델들의 단순 평균 앙상블 모델\n"
      ]
    },
    {
      "cell_type": "code",
      "source": [
        "# 📦 필요한 라이브러리 설치\n",
        "!pip install darts[torch] --quiet\n",
        "!pip install matplotlib pandas --quiet\n"
      ],
      "metadata": {
        "id": "MLIhApBPZsJp",
        "outputId": "628d9cd0-6784-45e7-bb09-54f489ef46d0",
        "colab": {
          "base_uri": "https://localhost:8080/"
        }
      },
      "id": "MLIhApBPZsJp",
      "execution_count": 2,
      "outputs": [
        {
          "output_type": "stream",
          "name": "stdout",
          "text": [
            "\u001b[?25l     \u001b[90m━━━━━━━━━━━━━━━━━━━━━━━━━━━━━━━━━━━━━━━━\u001b[0m \u001b[32m0.0/56.0 kB\u001b[0m \u001b[31m?\u001b[0m eta \u001b[36m-:--:--\u001b[0m\r\u001b[2K     \u001b[90m━━━━━━━━━━━━━━━━━━━━━━━━━━━━━━━━━━━━━━━━\u001b[0m \u001b[32m56.0/56.0 kB\u001b[0m \u001b[31m3.3 MB/s\u001b[0m eta \u001b[36m0:00:00\u001b[0m\n",
            "\u001b[?25h\u001b[33mWARNING: darts 0.35.0 does not provide the extra 'torch'\u001b[0m\u001b[33m\n",
            "\u001b[2K     \u001b[90m━━━━━━━━━━━━━━━━━━━━━━━━━━━━━━━━━━━━━━━━\u001b[0m \u001b[32m46.3/46.3 kB\u001b[0m \u001b[31m3.2 MB/s\u001b[0m eta \u001b[36m0:00:00\u001b[0m\n",
            "\u001b[2K   \u001b[90m━━━━━━━━━━━━━━━━━━━━━━━━━━━━━━━━━━━━━━━━\u001b[0m \u001b[32m200.6/200.6 kB\u001b[0m \u001b[31m14.9 MB/s\u001b[0m eta \u001b[36m0:00:00\u001b[0m\n",
            "\u001b[2K   \u001b[90m━━━━━━━━━━━━━━━━━━━━━━━━━━━━━━━━━━━━━━━━\u001b[0m \u001b[32m823.1/823.1 kB\u001b[0m \u001b[31m43.9 MB/s\u001b[0m eta \u001b[36m0:00:00\u001b[0m\n",
            "\u001b[2K   \u001b[90m━━━━━━━━━━━━━━━━━━━━━━━━━━━━━━━━━━━━━━━━\u001b[0m \u001b[32m354.4/354.4 kB\u001b[0m \u001b[31m21.3 MB/s\u001b[0m eta \u001b[36m0:00:00\u001b[0m\n",
            "\u001b[2K   \u001b[90m━━━━━━━━━━━━━━━━━━━━━━━━━━━━━━━━━━━━━━━━\u001b[0m \u001b[32m101.7/101.7 kB\u001b[0m \u001b[31m7.4 MB/s\u001b[0m eta \u001b[36m0:00:00\u001b[0m\n",
            "\u001b[2K   \u001b[90m━━━━━━━━━━━━━━━━━━━━━━━━━━━━━━━━━━━━━━━━\u001b[0m \u001b[32m363.4/363.4 MB\u001b[0m \u001b[31m4.6 MB/s\u001b[0m eta \u001b[36m0:00:00\u001b[0m\n",
            "\u001b[2K   \u001b[90m━━━━━━━━━━━━━━━━━━━━━━━━━━━━━━━━━━━━━━━━\u001b[0m \u001b[32m13.8/13.8 MB\u001b[0m \u001b[31m81.7 MB/s\u001b[0m eta \u001b[36m0:00:00\u001b[0m\n",
            "\u001b[2K   \u001b[90m━━━━━━━━━━━━━━━━━━━━━━━━━━━━━━━━━━━━━━━━\u001b[0m \u001b[32m24.6/24.6 MB\u001b[0m \u001b[31m78.0 MB/s\u001b[0m eta \u001b[36m0:00:00\u001b[0m\n",
            "\u001b[2K   \u001b[90m━━━━━━━━━━━━━━━━━━━━━━━━━━━━━━━━━━━━━━━━\u001b[0m \u001b[32m883.7/883.7 kB\u001b[0m \u001b[31m45.6 MB/s\u001b[0m eta \u001b[36m0:00:00\u001b[0m\n",
            "\u001b[2K   \u001b[90m━━━━━━━━━━━━━━━━━━━━━━━━━━━━━━━━━━━━━━━━\u001b[0m \u001b[32m664.8/664.8 MB\u001b[0m \u001b[31m1.3 MB/s\u001b[0m eta \u001b[36m0:00:00\u001b[0m\n",
            "\u001b[2K   \u001b[90m━━━━━━━━━━━━━━━━━━━━━━━━━━━━━━━━━━━━━━━━\u001b[0m \u001b[32m211.5/211.5 MB\u001b[0m \u001b[31m5.9 MB/s\u001b[0m eta \u001b[36m0:00:00\u001b[0m\n",
            "\u001b[2K   \u001b[90m━━━━━━━━━━━━━━━━━━━━━━━━━━━━━━━━━━━━━━━━\u001b[0m \u001b[32m56.3/56.3 MB\u001b[0m \u001b[31m12.8 MB/s\u001b[0m eta \u001b[36m0:00:00\u001b[0m\n",
            "\u001b[2K   \u001b[90m━━━━━━━━━━━━━━━━━━━━━━━━━━━━━━━━━━━━━━━━\u001b[0m \u001b[32m127.9/127.9 MB\u001b[0m \u001b[31m7.5 MB/s\u001b[0m eta \u001b[36m0:00:00\u001b[0m\n",
            "\u001b[2K   \u001b[90m━━━━━━━━━━━━━━━━━━━━━━━━━━━━━━━━━━━━━━━━\u001b[0m \u001b[32m207.5/207.5 MB\u001b[0m \u001b[31m5.4 MB/s\u001b[0m eta \u001b[36m0:00:00\u001b[0m\n",
            "\u001b[2K   \u001b[90m━━━━━━━━━━━━━━━━━━━━━━━━━━━━━━━━━━━━━━━━\u001b[0m \u001b[32m21.1/21.1 MB\u001b[0m \u001b[31m52.3 MB/s\u001b[0m eta \u001b[36m0:00:00\u001b[0m\n",
            "\u001b[2K   \u001b[90m━━━━━━━━━━━━━━━━━━━━━━━━━━━━━━━━━━━━━━━━\u001b[0m \u001b[32m1.0/1.0 MB\u001b[0m \u001b[31m32.7 MB/s\u001b[0m eta \u001b[36m0:00:00\u001b[0m\n",
            "\u001b[2K   \u001b[90m━━━━━━━━━━━━━━━━━━━━━━━━━━━━━━━━━━━━━━━━\u001b[0m \u001b[32m285.8/285.8 kB\u001b[0m \u001b[31m18.3 MB/s\u001b[0m eta \u001b[36m0:00:00\u001b[0m\n",
            "\u001b[2K   \u001b[90m━━━━━━━━━━━━━━━━━━━━━━━━━━━━━━━━━━━━━━━━\u001b[0m \u001b[32m278.2/278.2 kB\u001b[0m \u001b[31m16.8 MB/s\u001b[0m eta \u001b[36m0:00:00\u001b[0m\n",
            "\u001b[2K   \u001b[90m━━━━━━━━━━━━━━━━━━━━━━━━━━━━━━━━━━━━━━━━\u001b[0m \u001b[32m962.5/962.5 kB\u001b[0m \u001b[31m32.6 MB/s\u001b[0m eta \u001b[36m0:00:00\u001b[0m\n",
            "\u001b[2K   \u001b[90m━━━━━━━━━━━━━━━━━━━━━━━━━━━━━━━━━━━━━━━━\u001b[0m \u001b[32m42.2/42.2 kB\u001b[0m \u001b[31m3.0 MB/s\u001b[0m eta \u001b[36m0:00:00\u001b[0m\n",
            "\u001b[2K   \u001b[90m━━━━━━━━━━━━━━━━━━━━━━━━━━━━━━━━━━━━━━━━\u001b[0m \u001b[32m62.3/62.3 kB\u001b[0m \u001b[31m4.8 MB/s\u001b[0m eta \u001b[36m0:00:00\u001b[0m\n",
            "\u001b[2K   \u001b[90m━━━━━━━━━━━━━━━━━━━━━━━━━━━━━━━━━━━━━━━━\u001b[0m \u001b[32m135.3/135.3 kB\u001b[0m \u001b[31m10.1 MB/s\u001b[0m eta \u001b[36m0:00:00\u001b[0m\n",
            "\u001b[?25h"
          ]
        }
      ]
    },
    {
      "cell_type": "code",
      "execution_count": 5,
      "id": "08d8c5d7",
      "metadata": {
        "id": "08d8c5d7"
      },
      "outputs": [],
      "source": [
        "\n",
        "# -- 1. 라이브러리 설치 및 불러오기 --\n",
        "# Colab 환경에서 최초 실행 시 아래 주석 해제 후 설치 필요\n",
        "# !pip install darts[torch]\n",
        "\n",
        "import pandas as pd\n",
        "import matplotlib.pyplot as plt\n",
        "from darts import TimeSeries\n",
        "from darts.models import ARIMA, NBEATSModel, TCNModel, TiDEModel, RegressionEnsembleModel\n",
        "from darts.metrics import mae, rmse\n",
        "from darts.dataprocessing.transformers import Scaler\n",
        "from darts.utils.missing_values import fill_missing_values\n",
        "from darts.utils.utils import ModelMode\n",
        "\n",
        "# -- 2. 데이터 불러오기 및 전처리 --\n",
        "# 전력수요 데이터를 wide → long 형태로 변환하고, '24시'는 다음날 0시로 이동\n",
        "df = pd.read_csv('한국전력거래소_시간별 전국 전력수요량_20241231.csv', encoding='cp949')\n",
        "\n",
        "# melt: '1시'~'24시' 열을 시간/수요량으로 재구성\n",
        "df_long = df.melt(id_vars='날짜', var_name='시간', value_name='수요량(MWh)')\n",
        "df_long['시간_num'] = df_long['시간'].str.replace('시', '').astype(int)\n",
        "\n",
        "# 시간정보 합치기 (24시는 00시로 간주하고 다음날로 이동)\n",
        "df_long['일시'] = pd.to_datetime(df_long['날짜']) + pd.to_timedelta(df_long['시간_num'] % 24, unit='h')\n",
        "df_long.loc[df_long['시간_num'] == 24, '일시'] += pd.Timedelta(days=1)\n",
        "\n",
        "# 필요한 컬럼 정리\n",
        "df_long = df_long[['일시', '수요량(MWh)']].sort_values('일시')"
      ]
    },
    {
      "cell_type": "code",
      "source": [
        "# -- 3. TimeSeries 객체 생성 및 결측치 처리 --\n",
        "series = TimeSeries.from_dataframe(df_long, time_col='일시', value_cols='수요량(MWh)')\n",
        "series = fill_missing_values(series)\n",
        "\n"
      ],
      "metadata": {
        "id": "EvBFdNjDyqSN"
      },
      "id": "EvBFdNjDyqSN",
      "execution_count": 6,
      "outputs": []
    },
    {
      "cell_type": "code",
      "source": [
        "# -- 4. 학습/테스트 데이터 분리 --\n",
        "train, val = series.split_before(0.8)\n",
        "\n"
      ],
      "metadata": {
        "id": "g466Bl-5ypAk"
      },
      "id": "g466Bl-5ypAk",
      "execution_count": 7,
      "outputs": []
    },
    {
      "cell_type": "code",
      "source": [
        "# -- 5. 스케일링 (딥러닝 모델은 꼭 필요) --\n",
        "scaler = Scaler()\n",
        "train_scaled = scaler.fit_transform(train)\n",
        "val_scaled = scaler.transform(val)\n",
        "\n"
      ],
      "metadata": {
        "id": "EattPevtynl7"
      },
      "id": "EattPevtynl7",
      "execution_count": 8,
      "outputs": []
    },
    {
      "cell_type": "code",
      "source": [
        "# -- 6. ARIMA 모델 (기본 통계 기반 예측 모델) --\n",
        "arima = ARIMA()\n",
        "arima.fit(train)\n",
        "arima_pred = arima.predict(len(val))\n",
        "arima_mae = mae(val, arima_pred)\n",
        "arima_rmse = rmse(val, arima_pred)"
      ],
      "metadata": {
        "id": "3JVsd7jFymOb"
      },
      "id": "3JVsd7jFymOb",
      "execution_count": 9,
      "outputs": []
    },
    {
      "cell_type": "code",
      "source": [
        "# -- 7. N-BEATS 모델 (MLP 기반 딥러닝 시계열 예측) --\n",
        "nbeats = NBEATSModel(\n",
        "    input_chunk_length=168,\n",
        "    output_chunk_length=24,\n",
        "    n_epochs=30,\n",
        "    batch_size=32,\n",
        "    random_state=42,\n",
        "    model_name=\"nbeats_power\",\n",
        "    force_reset=True\n",
        ")\n",
        "nbeats.fit(train_scaled, verbose=True)\n",
        "nbeats_pred = scaler.inverse_transform(nbeats.predict(len(val_scaled)))\n",
        "nbeats_mae = mae(val, nbeats_pred)\n",
        "nbeats_rmse = rmse(val, nbeats_pred)\n",
        "\n",
        "\n"
      ],
      "metadata": {
        "id": "idhtsupGykuH",
        "outputId": "14751185-598a-49bb-8f11-2b96dc69ff44",
        "colab": {
          "base_uri": "https://localhost:8080/",
          "height": 398,
          "referenced_widgets": [
            "936c57da7ae2477eb36abfb154beb66b",
            "8b972eb0f4b54cf5aeb174c23511ca83",
            "3aeb0814e2be477584eea09fb756ff01",
            "169ffb03b55746f082fdc02ad7cbce9e",
            "92539561226844c49f6eb34fef3dff59",
            "7a911da4acb940df94c93aa5179fd6ee",
            "d68252a97e3c41f3aa4cc086cdf6e265",
            "002c9aacddd64a97b7bd987b9fef6021",
            "03cd8f8b77384f8ba7d580adaca2ee2b",
            "b2ee804effcf4f6a934ae89733f9af0b",
            "043764565b7449779a69412c66ce0839"
          ]
        }
      },
      "id": "idhtsupGykuH",
      "execution_count": null,
      "outputs": [
        {
          "output_type": "stream",
          "name": "stderr",
          "text": [
            "INFO:pytorch_lightning.utilities.rank_zero:GPU available: False, used: False\n",
            "INFO:pytorch_lightning.utilities.rank_zero:TPU available: False, using: 0 TPU cores\n",
            "INFO:pytorch_lightning.utilities.rank_zero:HPU available: False, using: 0 HPUs\n",
            "INFO:pytorch_lightning.callbacks.model_summary:\n",
            "  | Name            | Type             | Params | Mode \n",
            "-------------------------------------------------------------\n",
            "0 | criterion       | MSELoss          | 0      | train\n",
            "1 | train_criterion | MSELoss          | 0      | train\n",
            "2 | val_criterion   | MSELoss          | 0      | train\n",
            "3 | train_metrics   | MetricCollection | 0      | train\n",
            "4 | val_metrics     | MetricCollection | 0      | train\n",
            "5 | stacks          | ModuleList       | 7.3 M  | train\n",
            "-------------------------------------------------------------\n",
            "7.3 M     Trainable params\n",
            "2.3 K     Non-trainable params\n",
            "7.3 M     Total params\n",
            "29.323    Total estimated model params size (MB)\n",
            "396       Modules in train mode\n",
            "0         Modules in eval mode\n"
          ]
        },
        {
          "output_type": "display_data",
          "data": {
            "text/plain": [
              "Training: |          | 0/? [00:00<?, ?it/s]"
            ],
            "application/vnd.jupyter.widget-view+json": {
              "version_major": 2,
              "version_minor": 0,
              "model_id": "936c57da7ae2477eb36abfb154beb66b"
            }
          },
          "metadata": {}
        }
      ]
    },
    {
      "cell_type": "code",
      "source": [
        "# -- 8. TCN 모델 (Conv 기반 딥러닝 시계열 예측) --\n",
        "tcn = TCNModel(\n",
        "    input_chunk_length=168,\n",
        "    output_chunk_length=24,\n",
        "    kernel_size=3,\n",
        "    num_filters=16,\n",
        "    n_epochs=30,\n",
        "    batch_size=32,\n",
        "    random_state=42,\n",
        "    model_name=\"tcn_power\",\n",
        "    force_reset=True\n",
        ")\n",
        "tcn.fit(train_scaled, verbose=True)\n",
        "tcn_pred = scaler.inverse_transform(tcn.predict(len(val_scaled)))\n",
        "tcn_mae = mae(val, tcn_pred)\n",
        "tcn_rmse = rmse(val, tcn_pred)\n",
        "\n",
        "\n",
        "\n"
      ],
      "metadata": {
        "id": "nwqIixm8yjFG"
      },
      "id": "nwqIixm8yjFG",
      "execution_count": null,
      "outputs": []
    },
    {
      "cell_type": "code",
      "source": [
        "# -- 9. TiDE 모델 (Transformer 기반 시계열 예측 최신 모델) --\n",
        "tide = TiDEModel(\n",
        "    input_chunk_length=168,\n",
        "    output_chunk_length=24,\n",
        "    n_epochs=30,\n",
        "    batch_size=32,\n",
        "    random_state=42,\n",
        "    model_name=\"tide_power\",\n",
        "    force_reset=True\n",
        ")\n",
        "tide.fit(train_scaled, verbose=True)\n",
        "tide_pred = scaler.inverse_transform(tide.predict(len(val_scaled)))\n",
        "tide_mae = mae(val, tide_pred)\n",
        "tide_rmse = rmse(val, tide_pred)\n",
        "\n"
      ],
      "metadata": {
        "id": "DvooiynQyhjR"
      },
      "id": "DvooiynQyhjR",
      "execution_count": null,
      "outputs": []
    },
    {
      "cell_type": "code",
      "source": [
        "# -- 10. 앙상블 모델 (단순 평균 기반) --\n",
        "ensemble = RegressionEnsembleModel(\n",
        "    models=[arima, nbeats, tcn, tide]\n",
        ")\n",
        "\n",
        "ensemble.fit(\n",
        "    series=train_scaled,\n",
        "    past_covariates=None,  # 과거 변수 없을 경우 None\n",
        "    forecast_horizon=24,\n",
        "    regression_train_n_points=168\n",
        ")\n",
        "\n",
        "ensemble_pred = scaler.inverse_transform(ensemble.predict(len(val_scaled)))\n",
        "ensemble_mae = mae(val, ensemble_pred)\n",
        "ensemble_rmse = rmse(val, ensemble_pred)\n"
      ],
      "metadata": {
        "id": "K19UK9oWyfEm",
        "outputId": "d05c76de-8b04-49a7-8a24-fde99f78c965",
        "colab": {
          "base_uri": "https://localhost:8080/",
          "height": 349
        }
      },
      "id": "K19UK9oWyfEm",
      "execution_count": 11,
      "outputs": [
        {
          "output_type": "error",
          "ename": "TypeError",
          "evalue": "RegressionEnsembleModel.__init__() got an unexpected keyword argument 'models'",
          "traceback": [
            "\u001b[0;31m---------------------------------------------------------------------------\u001b[0m",
            "\u001b[0;31mTypeError\u001b[0m                                 Traceback (most recent call last)",
            "\u001b[0;32m<ipython-input-11-e66e179c2a95>\u001b[0m in \u001b[0;36m<cell line: 0>\u001b[0;34m()\u001b[0m\n\u001b[1;32m      1\u001b[0m \u001b[0;31m# -- 10. 앙상블 모델 (단순 평균 기반) --\u001b[0m\u001b[0;34m\u001b[0m\u001b[0;34m\u001b[0m\u001b[0m\n\u001b[0;32m----> 2\u001b[0;31m ensemble = RegressionEnsembleModel(\n\u001b[0m\u001b[1;32m      3\u001b[0m     \u001b[0mmodels\u001b[0m\u001b[0;34m=\u001b[0m\u001b[0;34m[\u001b[0m\u001b[0marima\u001b[0m\u001b[0;34m,\u001b[0m \u001b[0mnbeats\u001b[0m\u001b[0;34m,\u001b[0m \u001b[0mtcn\u001b[0m\u001b[0;34m,\u001b[0m \u001b[0mtide\u001b[0m\u001b[0;34m]\u001b[0m\u001b[0;34m\u001b[0m\u001b[0;34m\u001b[0m\u001b[0m\n\u001b[1;32m      4\u001b[0m )\n\u001b[1;32m      5\u001b[0m \u001b[0;34m\u001b[0m\u001b[0m\n",
            "\u001b[0;32m/usr/local/lib/python3.11/dist-packages/darts/models/forecasting/forecasting_model.py\u001b[0m in \u001b[0;36m__call__\u001b[0;34m(cls, *args, **kwargs)\u001b[0m\n\u001b[1;32m    126\u001b[0m \u001b[0;34m\u001b[0m\u001b[0m\n\u001b[1;32m    127\u001b[0m         \u001b[0;31m# 6) call model\u001b[0m\u001b[0;34m\u001b[0m\u001b[0;34m\u001b[0m\u001b[0m\n\u001b[0;32m--> 128\u001b[0;31m         \u001b[0;32mreturn\u001b[0m \u001b[0msuper\u001b[0m\u001b[0;34m(\u001b[0m\u001b[0;34m)\u001b[0m\u001b[0;34m.\u001b[0m\u001b[0m__call__\u001b[0m\u001b[0;34m(\u001b[0m\u001b[0;34m**\u001b[0m\u001b[0mall_params\u001b[0m\u001b[0;34m)\u001b[0m\u001b[0;34m\u001b[0m\u001b[0;34m\u001b[0m\u001b[0m\n\u001b[0m\u001b[1;32m    129\u001b[0m \u001b[0;34m\u001b[0m\u001b[0m\n\u001b[1;32m    130\u001b[0m \u001b[0;34m\u001b[0m\u001b[0m\n",
            "\u001b[0;31mTypeError\u001b[0m: RegressionEnsembleModel.__init__() got an unexpected keyword argument 'models'"
          ]
        }
      ]
    },
    {
      "cell_type": "code",
      "source": [
        "# -- 11. 시각화: 예측 결과 비교 --\n",
        "plt.figure(figsize=(15,6))\n",
        "val.plot(label='실제값', lw=2)\n",
        "arima_pred.plot(label='ARIMA', lw=1)\n",
        "nbeats_pred.plot(label='N-BEATS', lw=1)\n",
        "tcn_pred.plot(label='TCN', lw=1)\n",
        "tide_pred.plot(label='TiDE', lw=1)\n",
        "ensemble_pred.plot(label='앙상블', lw=2, color='black')\n",
        "plt.legend()\n",
        "plt.title('모델별 전력수요 예측 비교')\n",
        "plt.show()\n"
      ],
      "metadata": {
        "id": "dQLg-AbcydZO"
      },
      "id": "dQLg-AbcydZO",
      "execution_count": null,
      "outputs": []
    },
    {
      "cell_type": "code",
      "source": [
        "# -- 12. 성능 비교 테이블 출력 --\n",
        "results = pd.DataFrame({\n",
        "    '모델': ['ARIMA', 'N-BEATS', 'TCN', 'TiDE', '앙상블'],\n",
        "    'MAE': [arima_mae, nbeats_mae, tcn_mae, tide_mae, ensemble_mae],\n",
        "    'RMSE': [arima_rmse, nbeats_rmse, tcn_rmse, tide_rmse, ensemble_rmse]\n",
        "})\n",
        "print(results)"
      ],
      "metadata": {
        "id": "3oprnZTMybAp"
      },
      "id": "3oprnZTMybAp",
      "execution_count": null,
      "outputs": []
    }
  ],
  "metadata": {
    "colab": {
      "provenance": [],
      "toc_visible": true
    },
    "language_info": {
      "name": "python"
    },
    "kernelspec": {
      "name": "python3",
      "display_name": "Python 3"
    },
    "widgets": {
      "application/vnd.jupyter.widget-state+json": {
        "936c57da7ae2477eb36abfb154beb66b": {
          "model_module": "@jupyter-widgets/controls",
          "model_name": "HBoxModel",
          "model_module_version": "1.5.0",
          "state": {
            "_dom_classes": [],
            "_model_module": "@jupyter-widgets/controls",
            "_model_module_version": "1.5.0",
            "_model_name": "HBoxModel",
            "_view_count": null,
            "_view_module": "@jupyter-widgets/controls",
            "_view_module_version": "1.5.0",
            "_view_name": "HBoxView",
            "box_style": "",
            "children": [
              "IPY_MODEL_8b972eb0f4b54cf5aeb174c23511ca83",
              "IPY_MODEL_3aeb0814e2be477584eea09fb756ff01",
              "IPY_MODEL_169ffb03b55746f082fdc02ad7cbce9e"
            ],
            "layout": "IPY_MODEL_92539561226844c49f6eb34fef3dff59"
          }
        },
        "8b972eb0f4b54cf5aeb174c23511ca83": {
          "model_module": "@jupyter-widgets/controls",
          "model_name": "HTMLModel",
          "model_module_version": "1.5.0",
          "state": {
            "_dom_classes": [],
            "_model_module": "@jupyter-widgets/controls",
            "_model_module_version": "1.5.0",
            "_model_name": "HTMLModel",
            "_view_count": null,
            "_view_module": "@jupyter-widgets/controls",
            "_view_module_version": "1.5.0",
            "_view_name": "HTMLView",
            "description": "",
            "description_tooltip": null,
            "layout": "IPY_MODEL_7a911da4acb940df94c93aa5179fd6ee",
            "placeholder": "​",
            "style": "IPY_MODEL_d68252a97e3c41f3aa4cc086cdf6e265",
            "value": "Epoch 0:  11%"
          }
        },
        "3aeb0814e2be477584eea09fb756ff01": {
          "model_module": "@jupyter-widgets/controls",
          "model_name": "FloatProgressModel",
          "model_module_version": "1.5.0",
          "state": {
            "_dom_classes": [],
            "_model_module": "@jupyter-widgets/controls",
            "_model_module_version": "1.5.0",
            "_model_name": "FloatProgressModel",
            "_view_count": null,
            "_view_module": "@jupyter-widgets/controls",
            "_view_module_version": "1.5.0",
            "_view_name": "ProgressView",
            "bar_style": "",
            "description": "",
            "description_tooltip": null,
            "layout": "IPY_MODEL_002c9aacddd64a97b7bd987b9fef6021",
            "max": 214,
            "min": 0,
            "orientation": "horizontal",
            "style": "IPY_MODEL_03cd8f8b77384f8ba7d580adaca2ee2b",
            "value": 24
          }
        },
        "169ffb03b55746f082fdc02ad7cbce9e": {
          "model_module": "@jupyter-widgets/controls",
          "model_name": "HTMLModel",
          "model_module_version": "1.5.0",
          "state": {
            "_dom_classes": [],
            "_model_module": "@jupyter-widgets/controls",
            "_model_module_version": "1.5.0",
            "_model_name": "HTMLModel",
            "_view_count": null,
            "_view_module": "@jupyter-widgets/controls",
            "_view_module_version": "1.5.0",
            "_view_name": "HTMLView",
            "description": "",
            "description_tooltip": null,
            "layout": "IPY_MODEL_b2ee804effcf4f6a934ae89733f9af0b",
            "placeholder": "​",
            "style": "IPY_MODEL_043764565b7449779a69412c66ce0839",
            "value": " 24/214 [00:06&lt;00:50,  3.75it/s, train_loss=0.0358]"
          }
        },
        "92539561226844c49f6eb34fef3dff59": {
          "model_module": "@jupyter-widgets/base",
          "model_name": "LayoutModel",
          "model_module_version": "1.2.0",
          "state": {
            "_model_module": "@jupyter-widgets/base",
            "_model_module_version": "1.2.0",
            "_model_name": "LayoutModel",
            "_view_count": null,
            "_view_module": "@jupyter-widgets/base",
            "_view_module_version": "1.2.0",
            "_view_name": "LayoutView",
            "align_content": null,
            "align_items": null,
            "align_self": null,
            "border": null,
            "bottom": null,
            "display": "inline-flex",
            "flex": null,
            "flex_flow": "row wrap",
            "grid_area": null,
            "grid_auto_columns": null,
            "grid_auto_flow": null,
            "grid_auto_rows": null,
            "grid_column": null,
            "grid_gap": null,
            "grid_row": null,
            "grid_template_areas": null,
            "grid_template_columns": null,
            "grid_template_rows": null,
            "height": null,
            "justify_content": null,
            "justify_items": null,
            "left": null,
            "margin": null,
            "max_height": null,
            "max_width": null,
            "min_height": null,
            "min_width": null,
            "object_fit": null,
            "object_position": null,
            "order": null,
            "overflow": null,
            "overflow_x": null,
            "overflow_y": null,
            "padding": null,
            "right": null,
            "top": null,
            "visibility": null,
            "width": "100%"
          }
        },
        "7a911da4acb940df94c93aa5179fd6ee": {
          "model_module": "@jupyter-widgets/base",
          "model_name": "LayoutModel",
          "model_module_version": "1.2.0",
          "state": {
            "_model_module": "@jupyter-widgets/base",
            "_model_module_version": "1.2.0",
            "_model_name": "LayoutModel",
            "_view_count": null,
            "_view_module": "@jupyter-widgets/base",
            "_view_module_version": "1.2.0",
            "_view_name": "LayoutView",
            "align_content": null,
            "align_items": null,
            "align_self": null,
            "border": null,
            "bottom": null,
            "display": null,
            "flex": null,
            "flex_flow": null,
            "grid_area": null,
            "grid_auto_columns": null,
            "grid_auto_flow": null,
            "grid_auto_rows": null,
            "grid_column": null,
            "grid_gap": null,
            "grid_row": null,
            "grid_template_areas": null,
            "grid_template_columns": null,
            "grid_template_rows": null,
            "height": null,
            "justify_content": null,
            "justify_items": null,
            "left": null,
            "margin": null,
            "max_height": null,
            "max_width": null,
            "min_height": null,
            "min_width": null,
            "object_fit": null,
            "object_position": null,
            "order": null,
            "overflow": null,
            "overflow_x": null,
            "overflow_y": null,
            "padding": null,
            "right": null,
            "top": null,
            "visibility": null,
            "width": null
          }
        },
        "d68252a97e3c41f3aa4cc086cdf6e265": {
          "model_module": "@jupyter-widgets/controls",
          "model_name": "DescriptionStyleModel",
          "model_module_version": "1.5.0",
          "state": {
            "_model_module": "@jupyter-widgets/controls",
            "_model_module_version": "1.5.0",
            "_model_name": "DescriptionStyleModel",
            "_view_count": null,
            "_view_module": "@jupyter-widgets/base",
            "_view_module_version": "1.2.0",
            "_view_name": "StyleView",
            "description_width": ""
          }
        },
        "002c9aacddd64a97b7bd987b9fef6021": {
          "model_module": "@jupyter-widgets/base",
          "model_name": "LayoutModel",
          "model_module_version": "1.2.0",
          "state": {
            "_model_module": "@jupyter-widgets/base",
            "_model_module_version": "1.2.0",
            "_model_name": "LayoutModel",
            "_view_count": null,
            "_view_module": "@jupyter-widgets/base",
            "_view_module_version": "1.2.0",
            "_view_name": "LayoutView",
            "align_content": null,
            "align_items": null,
            "align_self": null,
            "border": null,
            "bottom": null,
            "display": null,
            "flex": "2",
            "flex_flow": null,
            "grid_area": null,
            "grid_auto_columns": null,
            "grid_auto_flow": null,
            "grid_auto_rows": null,
            "grid_column": null,
            "grid_gap": null,
            "grid_row": null,
            "grid_template_areas": null,
            "grid_template_columns": null,
            "grid_template_rows": null,
            "height": null,
            "justify_content": null,
            "justify_items": null,
            "left": null,
            "margin": null,
            "max_height": null,
            "max_width": null,
            "min_height": null,
            "min_width": null,
            "object_fit": null,
            "object_position": null,
            "order": null,
            "overflow": null,
            "overflow_x": null,
            "overflow_y": null,
            "padding": null,
            "right": null,
            "top": null,
            "visibility": null,
            "width": null
          }
        },
        "03cd8f8b77384f8ba7d580adaca2ee2b": {
          "model_module": "@jupyter-widgets/controls",
          "model_name": "ProgressStyleModel",
          "model_module_version": "1.5.0",
          "state": {
            "_model_module": "@jupyter-widgets/controls",
            "_model_module_version": "1.5.0",
            "_model_name": "ProgressStyleModel",
            "_view_count": null,
            "_view_module": "@jupyter-widgets/base",
            "_view_module_version": "1.2.0",
            "_view_name": "StyleView",
            "bar_color": null,
            "description_width": ""
          }
        },
        "b2ee804effcf4f6a934ae89733f9af0b": {
          "model_module": "@jupyter-widgets/base",
          "model_name": "LayoutModel",
          "model_module_version": "1.2.0",
          "state": {
            "_model_module": "@jupyter-widgets/base",
            "_model_module_version": "1.2.0",
            "_model_name": "LayoutModel",
            "_view_count": null,
            "_view_module": "@jupyter-widgets/base",
            "_view_module_version": "1.2.0",
            "_view_name": "LayoutView",
            "align_content": null,
            "align_items": null,
            "align_self": null,
            "border": null,
            "bottom": null,
            "display": null,
            "flex": null,
            "flex_flow": null,
            "grid_area": null,
            "grid_auto_columns": null,
            "grid_auto_flow": null,
            "grid_auto_rows": null,
            "grid_column": null,
            "grid_gap": null,
            "grid_row": null,
            "grid_template_areas": null,
            "grid_template_columns": null,
            "grid_template_rows": null,
            "height": null,
            "justify_content": null,
            "justify_items": null,
            "left": null,
            "margin": null,
            "max_height": null,
            "max_width": null,
            "min_height": null,
            "min_width": null,
            "object_fit": null,
            "object_position": null,
            "order": null,
            "overflow": null,
            "overflow_x": null,
            "overflow_y": null,
            "padding": null,
            "right": null,
            "top": null,
            "visibility": null,
            "width": null
          }
        },
        "043764565b7449779a69412c66ce0839": {
          "model_module": "@jupyter-widgets/controls",
          "model_name": "DescriptionStyleModel",
          "model_module_version": "1.5.0",
          "state": {
            "_model_module": "@jupyter-widgets/controls",
            "_model_module_version": "1.5.0",
            "_model_name": "DescriptionStyleModel",
            "_view_count": null,
            "_view_module": "@jupyter-widgets/base",
            "_view_module_version": "1.2.0",
            "_view_name": "StyleView",
            "description_width": ""
          }
        }
      }
    }
  },
  "nbformat": 4,
  "nbformat_minor": 5
}